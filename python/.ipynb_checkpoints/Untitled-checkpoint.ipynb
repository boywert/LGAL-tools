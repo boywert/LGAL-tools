{
 "cells": [
  {
   "cell_type": "code",
   "execution_count": 18,
   "metadata": {},
   "outputs": [
    {
     "name": "stdout",
     "output_type": "stream",
     "text": [
      "Read  ../../rad_plot/sam_test/output/ file 0 - 7 : 0.1057741641998291 s\n"
     ]
    }
   ],
   "source": [
    "import sys\n",
    "import read_lgal_advance as lgal\n",
    "import LGalaxies_Henriques2015a_struct as lgal_struct\n",
    "import matplotlib\n",
    "import numpy as np\n",
    "import numpy\n",
    "import matplotlib.pyplot as plt\n",
    "\n",
    "%matplotlib inline  \n",
    "fl = lgal_struct.PropertiesToRead\n",
    "dt = lgal_struct.LGalaxiesStruct\n",
    "\n",
    "path = \"../../rad_plot/sam_test/output/\"\n",
    "first = 0\n",
    "last = 7\n",
    "prefix = \"SA_z0.00\"\n",
    "(nTrees,nHalos,nTreeHalos,output_Galaxy) = lgal.readsnap_lgal_advance(path,prefix,first,last,fl,dt)"
   ]
  },
  {
   "cell_type": "code",
   "execution_count": 19,
   "metadata": {},
   "outputs": [
    {
     "data": {
      "text/plain": [
       "(6, 8)"
      ]
     },
     "execution_count": 19,
     "metadata": {},
     "output_type": "execute_result"
    },
    {
     "data": {
      "image/png": "[encoded data removed]",
      "text/plain": [
       "<Figure size 432x288 with 1 Axes>"
      ]
     },
     "metadata": {
      "needs_background": "light"
     },
     "output_type": "display_data"
    }
   ],
   "source": [
    "plt.hist(np.log10(1e-30+1e10*(output_Galaxy[\"DiskMass\"]+output_Galaxy['BulgeMass'])),bins=20,range=(6,8))\n",
    "plt.yscale(\"log\")\n",
    "plt.xlim(6,8)"
   ]
  },
  {
   "cell_type": "code",
   "execution_count": 36,
   "metadata": {},
   "outputs": [
    {
     "name": "stderr",
     "output_type": "stream",
     "text": [
      "/usr/local/lib/python3.7/site-packages/ipykernel_launcher.py:6: RuntimeWarning: divide by zero encountered in log10\n",
      "  \n"
     ]
    }
   ],
   "source": [
    "gadget2msun = 1e10\n",
    "hubble_h = 0.68\n",
    "boxsize = 12.5\n",
    "\n",
    "def stellar_mass_fn(gal,mass_min=1.,mass_max=1.e20,nbins=20):\n",
    "    massf = numpy.log10(gadget2msun*(gal['DiskMass']+gal['BulgeMass'])/hubble_h)\n",
    "    stellarmass = numpy.histogram(massf,nbins,(numpy.log10(mass_min),numpy.log10(mass_max)))\n",
    "    massftn_y = stellarmass[0]/(boxsize)**3/(numpy.log10(mass_max/mass_min)/nbins)\n",
    "    massftn_x = []\n",
    "    for i in range(len(stellarmass[0])):\n",
    "        massftn_x.append((stellarmass[1][i]+stellarmass[1][i+1])/2.)\n",
    "    return (massftn_x,massftn_y)\n",
    "m = stellar_mass_fn(output_Galaxy,mass_min=1e6,mass_max=1e9,nbins=10)"
   ]
  },
  {
   "cell_type": "code",
   "execution_count": 37,
   "metadata": {},
   "outputs": [
    {
     "data": {
      "image/png": "[encoded data removed]",
      "text/plain": [
       "<Figure size 432x288 with 1 Axes>"
      ]
     },
     "metadata": {
      "needs_background": "light"
     },
     "output_type": "display_data"
    }
   ],
   "source": [
    "plt.plot(m[0],m[1])\n",
    "plt.yscale(\"log\")"
   ]
  },
  {
   "cell_type": "code",
   "execution_count": 27,
   "metadata": {},
   "outputs": [
    {
     "data": {
      "text/plain": [
       "array([1.43119385, 1.25249585, 1.2339821 , 1.20580899, 0.93856694,\n",
       "       0.72686617, 0.59807482, 0.41052242, 0.27368161, 0.15293972])"
      ]
     },
     "execution_count": 27,
     "metadata": {},
     "output_type": "execute_result"
    }
   ],
   "source": []
  },
  {
   "cell_type": "code",
   "execution_count": null,
   "metadata": {},
   "outputs": [],
   "source": []
  }
 ],
 "metadata": {
  "kernelspec": {
   "display_name": "Python 3",
   "language": "python",
   "name": "python3"
  },
  "language_info": {
   "codemirror_mode": {
    "name": "ipython",
    "version": 3
   },
   "file_extension": ".py",
   "mimetype": "text/x-python",
   "name": "python",
   "nbconvert_exporter": "python",
   "pygments_lexer": "ipython3",
   "version": "3.7.0"
  }
 },
 "nbformat": 4,
 "nbformat_minor": 2
}
