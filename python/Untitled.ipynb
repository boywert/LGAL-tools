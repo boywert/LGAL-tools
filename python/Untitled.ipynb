{
 "cells": [
  {
   "cell_type": "code",
   "execution_count": 4,
   "metadata": {},
   "outputs": [
    {
     "name": "stdout",
     "output_type": "stream",
     "text": [
      "Read  ../../rad_plot/sam_test/output/ file 0 - 7 : 0.11732697486877441 s\n",
      "Read  ../../rad_plot/sam_test/output/ file 0 - 7 : 0.09560012817382812 s\n"
     ]
    }
   ],
   "source": [
    "import sys\n",
    "import read_lgal_advance as lgal\n",
    "import LGalaxies_Henriques2015a_struct as lgal_struct\n",
    "import matplotlib\n",
    "import numpy as np\n",
    "import numpy\n",
    "import matplotlib.pyplot as plt\n",
    "\n",
    "%matplotlib inline  \n",
    "fl = lgal_struct.PropertiesToRead\n",
    "dt = lgal_struct.LGalaxiesStruct\n",
    "\n",
    "path = \"../../rad_plot/sam_test/output/\"\n",
    "first = 0\n",
    "last = 7\n",
    "prefix = \"SA_z0.09\"\n",
    "a = lgal.readsnap_lgal_advance(path,prefix,first,last,fl,dt)\n",
    "prefix = \"SA_z0.00\"\n",
    "b = lgal.readsnap_lgal_advance(path,prefix,first,last,fl,dt)"
   ]
  },
  {
   "cell_type": "code",
   "execution_count": 5,
   "metadata": {},
   "outputs": [],
   "source": [
    "c = \"\"\"7.06520      7.31520     0.216271    0.0755382\\n\n",
    "      7.31520      7.56520     0.204020    0.0712595\\n\n",
    "      7.56520      7.81520     0.151049    0.0527579\\n\n",
    "      7.81520      8.06520     0.112048    0.0391356\\n\n",
    "      8.06520      8.31520    0.0762307    0.0266256\\n\n",
    "      8.31520      8.56520    0.0560568    0.0135117\\n\n",
    "      8.56520      8.81520    0.0423269    0.0102622\\n\n",
    "      8.81520      9.06520    0.0331105   0.00837041\\n\n",
    "      9.06520      9.31520    0.0256968   0.00525948\\n\n",
    "      9.31520      9.56520    0.0214038   0.00473875\\n\n",
    "      9.56520      9.81520    0.0195365   0.00418913\\n\n",
    "      9.81520      10.0652    0.0186109   0.00360372\\n\n",
    "      10.0652      10.3152    0.0152146   0.00202494\\n\n",
    "      10.3152      10.5652    0.0107248   0.00209060\\n\n",
    "      10.5652      10.8152   0.00517901  0.000978219\\n\n",
    "      10.8152      11.0652   0.00142977  0.000428163\\n\n",
    "      11.0652      11.3152  0.000139376  0.000104390\"\"\"\n",
    "d = \"\"\"7.19020    -0.558757\n",
    "      7.44020    -0.731684\n",
    "      7.69020    -0.894178\n",
    "      7.94020     -1.04797\n",
    "      8.19020     -1.18301\n",
    "      8.44020     -1.29786\n",
    "      8.69020     -1.42411\n",
    "      8.94020     -1.53341\n",
    "      9.19020     -1.63278\n",
    "      9.44020     -1.72506\n",
    "      9.69020     -1.78331\n",
    "      9.94020     -1.84144\n",
    "      10.1902     -1.94810\n",
    "      10.4402     -2.10675\n",
    "      10.6902     -2.38943\n",
    "      10.9402     -2.88977\n",
    "      11.1902     -3.61282\n",
    "      11.4402     -4.35713\n",
    "      11.6902     -5.27807\n",
    "      11.9402     -6.59732\n",
    "      12.1902     -7.14139\"\"\"\n",
    "obs = numpy.fromstring(c,dtype=float, sep=' ')\n",
    "obs = obs.reshape([17,4])\n",
    "x_obs = 0.5*(obs[:,0]+obs[:,1])\n",
    "y_obs = obs[:,2]\n",
    "lg = numpy.fromstring(d,dtype=float, sep=' ')\n",
    "lg = lg.reshape([21,2])\n",
    "x_lg = lg[:,0]\n",
    "y_lg = 10**(lg[:,1])"
   ]
  },
  {
   "cell_type": "code",
   "execution_count": 6,
   "metadata": {},
   "outputs": [
    {
     "name": "stderr",
     "output_type": "stream",
     "text": [
      "/usr/local/lib/python3.7/site-packages/ipykernel_launcher.py:6: RuntimeWarning: divide by zero encountered in log10\n",
      "  \n"
     ]
    }
   ],
   "source": [
    "gadget2msun = 1e10\n",
    "hubble_h = 0.68\n",
    "boxsize = 12.5\n",
    "\n",
    "def stellar_mass_fn(gal,mass_min=1.,mass_max=1.e20,nbins=17):\n",
    "    massf = numpy.log10(gadget2msun*(gal['DiskMass']+gal['BulgeMass'])*hubble_h)\n",
    "    stellarmass = numpy.histogram(massf,nbins,(numpy.log10(mass_min),numpy.log10(mass_max)))\n",
    "    massftn_y = stellarmass[0]/(boxsize)**3/(numpy.log10(mass_max/mass_min)/nbins)\n",
    "    massftn_x = []\n",
    "    for i in range(len(stellarmass[0])):\n",
    "        massftn_x.append((stellarmass[1][i]+stellarmass[1][i+1])/2.)\n",
    "    return (massftn_x,massftn_y)\n",
    "m = stellar_mass_fn(a[3],mass_min=1e7,mass_max=1e12,nbins=30)\n",
    "m2 = stellar_mass_fn(b[3],mass_min=1e7,mass_max=1e12,nbins=30)"
   ]
  },
  {
   "cell_type": "code",
   "execution_count": 12,
   "metadata": {},
   "outputs": [
    {
     "data": {
      "text/plain": [
       "<matplotlib.legend.Legend at 0x118fea6a0>"
      ]
     },
     "execution_count": 12,
     "metadata": {},
     "output_type": "execute_result"
    },
    {
     "data": {
      "image/png": "[encoded data removed]",
      "text/plain": [
       "<Figure size 432x288 with 1 Axes>"
      ]
     },
     "metadata": {
      "needs_background": "light"
     },
     "output_type": "display_data"
    }
   ],
   "source": [
    "#plt.plot(m[0],m[1],c=\"r\")\n",
    "plt.plot(m[0],m[1],label=\"small run\")\n",
    "plt.plot(x_lg, y_lg, label=\"SAM\")\n",
    "plt.scatter(x_obs,y_obs, label=\"Obs\")\n",
    "plt.xlim([7,11])\n",
    "plt.ylim([0.0001,50])\n",
    "plt.yscale(\"log\")\n",
    "plt.legend()"
   ]
  },
  {
   "cell_type": "code",
   "execution_count": null,
   "metadata": {},
   "outputs": [],
   "source": []
  },
  {
   "cell_type": "code",
   "execution_count": null,
   "metadata": {},
   "outputs": [],
   "source": []
  }
 ],
 "metadata": {
  "kernelspec": {
   "display_name": "Python 3",
   "language": "python",
   "name": "python3"
  },
  "language_info": {
   "codemirror_mode": {
    "name": "ipython",
    "version": 3
   },
   "file_extension": ".py",
   "mimetype": "text/x-python",
   "name": "python",
   "nbconvert_exporter": "python",
   "pygments_lexer": "ipython3",
   "version": "3.7.0"
  }
 },
 "nbformat": 4,
 "nbformat_minor": 2
}
